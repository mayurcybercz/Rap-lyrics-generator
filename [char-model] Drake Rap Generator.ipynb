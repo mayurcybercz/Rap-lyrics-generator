{
 "cells": [
  {
   "cell_type": "code",
   "execution_count": 1,
   "metadata": {},
   "outputs": [
    {
     "name": "stderr",
     "output_type": "stream",
     "text": [
      "Using TensorFlow backend.\n"
     ]
    }
   ],
   "source": [
    "from __future__ import print_function\n",
    "from keras.callbacks import LambdaCallback\n",
    "from keras.models import Sequential\n",
    "from keras.layers import Dense, Activation\n",
    "from keras.layers import LSTM\n",
    "from keras.optimizers import RMSprop, Adam\n",
    "from keras.utils.data_utils import get_file\n",
    "import numpy as np\n",
    "import pandas as pd\n",
    "import random\n",
    "import sys\n",
    "import io\n",
    "import re"
   ]
  },
  {
   "cell_type": "code",
   "execution_count": 3,
   "metadata": {},
   "outputs": [],
   "source": [
    "songs = pd.read_csv('data/drake-songs.csv')"
   ]
  },
  {
   "cell_type": "code",
   "execution_count": 4,
   "metadata": {},
   "outputs": [
    {
     "data": {
      "text/plain": [
       "367372"
      ]
     },
     "execution_count": 4,
     "metadata": {},
     "output_type": "execute_result"
    }
   ],
   "source": [
    "text = ''\n",
    "\n",
    "for index, row in songs['lyrics'].iteritems():\n",
    "    cleaned = str(row).lower().replace(' ', '\\n')\n",
    "    text = text + \" \".join(re.findall(r\"[a-z']+\", cleaned))\n",
    "    \n",
    "len(text)"
   ]
  },
  {
   "cell_type": "code",
   "execution_count": 5,
   "metadata": {},
   "outputs": [
    {
     "name": "stdout",
     "output_type": "stream",
     "text": [
      "total chars: 28\n"
     ]
    }
   ],
   "source": [
    "import re\n",
    "\n",
    "tokens = re.findall(r\"[a-z'\\s]\", text)\n",
    "\n",
    "chars = sorted(list(set(tokens)))\n",
    "print('total chars:', len(chars))\n",
    "char_indices = dict((c, i) for i, c in enumerate(chars))\n",
    "indices_char = dict((i, c) for i, c in enumerate(chars))"
   ]
  },
  {
   "cell_type": "code",
   "execution_count": 6,
   "metadata": {
    "scrolled": true
   },
   "outputs": [
    {
     "data": {
      "text/plain": [
       "[' ',\n",
       " \"'\",\n",
       " 'a',\n",
       " 'b',\n",
       " 'c',\n",
       " 'd',\n",
       " 'e',\n",
       " 'f',\n",
       " 'g',\n",
       " 'h',\n",
       " 'i',\n",
       " 'j',\n",
       " 'k',\n",
       " 'l',\n",
       " 'm',\n",
       " 'n',\n",
       " 'o',\n",
       " 'p',\n",
       " 'q',\n",
       " 'r',\n",
       " 's',\n",
       " 't',\n",
       " 'u',\n",
       " 'v',\n",
       " 'w',\n",
       " 'x',\n",
       " 'y',\n",
       " 'z']"
      ]
     },
     "execution_count": 6,
     "metadata": {},
     "output_type": "execute_result"
    }
   ],
   "source": [
    "chars"
   ]
  },
  {
   "cell_type": "code",
   "execution_count": 7,
   "metadata": {
    "scrolled": true
   },
   "outputs": [
    {
     "name": "stdout",
     "output_type": "stream",
     "text": [
      "nb sequences: 122444\n"
     ]
    }
   ],
   "source": [
    "\n",
    "maxlen = 40\n",
    "step = 3\n",
    "sentences = []\n",
    "next_chars = []\n",
    "\n",
    "for i in range(0, len(text) - maxlen, step):\n",
    "    sentences.append(text[i: i + maxlen])\n",
    "    next_chars.append(text[i + maxlen])\n",
    "    \n",
    "print('nb sequences:', len(sentences))"
   ]
  },
  {
   "cell_type": "code",
   "execution_count": 8,
   "metadata": {},
   "outputs": [
    {
     "name": "stdout",
     "output_type": "stream",
     "text": [
      "Vectorization...\n"
     ]
    }
   ],
   "source": [
    "\n",
    "\n",
    "x = np.zeros((len(sentences), maxlen, len(chars)), dtype=np.bool)\n",
    "y = np.zeros((len(sentences), len(chars)), dtype=np.bool)\n",
    "\n",
    "for i, sentence in enumerate(sentences):\n",
    "    for t, char in enumerate(sentence):\n",
    "        x[i, t, char_indices[char]] = 1\n",
    "    y[i, char_indices[next_chars[i]]] = 1"
   ]
  },
  {
   "cell_type": "code",
   "execution_count": 9,
   "metadata": {},
   "outputs": [
    {
     "name": "stdout",
     "output_type": "stream",
     "text": [
      "Build model...\n"
     ]
    }
   ],
   "source": [
    "\n",
    "print('Build model...')\n",
    "model = Sequential()\n",
    "model.add(LSTM(128, input_shape=(maxlen, len(chars))))\n",
    "model.add(Dense(len(chars)))\n",
    "model.add(Activation('softmax'))\n",
    "\n",
    "model.compile(loss='categorical_crossentropy', optimizer=RMSprop(lr=0.01))"
   ]
  },
  {
   "cell_type": "code",
   "execution_count": 10,
   "metadata": {},
   "outputs": [
    {
     "name": "stdout",
     "output_type": "stream",
     "text": [
      "_________________________________________________________________\n",
      "Layer (type)                 Output Shape              Param #   \n",
      "=================================================================\n",
      "lstm_1 (LSTM)                (None, 128)               80384     \n",
      "_________________________________________________________________\n",
      "dense_1 (Dense)              (None, 28)                3612      \n",
      "_________________________________________________________________\n",
      "activation_1 (Activation)    (None, 28)                0         \n",
      "=================================================================\n",
      "Total params: 83,996\n",
      "Trainable params: 83,996\n",
      "Non-trainable params: 0\n",
      "_________________________________________________________________\n"
     ]
    }
   ],
   "source": [
    "model.summary()"
   ]
  },
  {
   "cell_type": "code",
   "execution_count": 11,
   "metadata": {},
   "outputs": [],
   "source": [
    "def sample(preds, temperature=1.0):\n",
    "    preds = np.asarray(preds).astype('float64')\n",
    "    preds = np.log(preds) / temperature\n",
    "    exp_preds = np.exp(preds)\n",
    "    preds = exp_preds / np.sum(exp_preds)\n",
    "    probas = np.random.multinomial(1, preds, 1)\n",
    "    return np.argmax(probas)"
   ]
  },
  {
   "cell_type": "code",
   "execution_count": 12,
   "metadata": {},
   "outputs": [],
   "source": [
    "def on_epoch_end(epoch, logs):\n",
    "    print('----- Generating text after Epoch: %d' % epoch)\n",
    "\n",
    "    start_index = random.randint(0, len(text) - maxlen - 1)\n",
    "    for diversity in [0.2, 0.5]:\n",
    "        print('----- diversity:', diversity)\n",
    "\n",
    "        generated = ''\n",
    "        sentence = text[start_index: start_index + maxlen]\n",
    "        generated += sentence\n",
    "        print('----- Generating with seed: \"' + sentence + '\"')\n",
    "        sys.stdout.write(generated)\n",
    "\n",
    "        for i in range(400):\n",
    "            x_pred = np.zeros((1, maxlen, len(chars)))\n",
    "            for t, char in enumerate(sentence):\n",
    "                x_pred[0, t, char_indices[char]] = 1.\n",
    "\n",
    "            preds = model.predict(x_pred, verbose=0)[0]\n",
    "            next_index = sample(preds, diversity)\n",
    "            next_char = indices_char[next_index]\n",
    "\n",
    "            generated += next_char\n",
    "            sentence = sentence[1:] + next_char\n",
    "\n",
    "            sys.stdout.write(next_char)\n",
    "            sys.stdout.flush()\n",
    "        print()"
   ]
  },
  {
   "cell_type": "code",
   "execution_count": 13,
   "metadata": {},
   "outputs": [
    {
     "name": "stdout",
     "output_type": "stream",
     "text": [
      "Epoch 1/10\n",
      "122444/122444 [==============================] - 45s 370us/step - loss: 1.8640\n",
      "----- Generating text after Epoch: 0\n",
      "----- diversity: 0.2\n",
      "----- Generating with seed: \" used to always stay at home be a good g\"\n",
      " used to always stay at home be a good got a so your still i got me i can't wan start i got the goin' i can't never shit the shit i got me i got me i can't i got me they want i still the mace the been i don't see still on the say i got a go take the beat you do the go the same they still on the go to sear i can start i was the sear i got me like me a go the see show that i got a say they now they want the the been i can on the back i wa\n",
      "----- diversity: 0.5\n",
      "----- Generating with seed: \" used to always stay at home be a good g\"\n",
      " used to always stay at home be a good go hard go ere i can't xave a corn and i still me they on with of the gont i was go hare in they loving we now to live they all i know who we got and i got a say this probe word on the tay a pare the face your gon you know you need a some to be the wore with the she got me freend i make i got me ter spand they loving your firethere i do you i could we got a got i can't sleart they goen i can't now \n",
      "Epoch 2/10\n",
      "122444/122444 [==============================] - 44s 360us/step - loss: 1.5194\n",
      "----- Generating text after Epoch: 1\n",
      "----- diversity: 0.2\n",
      "----- Generating with seed: \"y some bad hoes i'm 'bout to take the hi\"\n",
      "y some bad hoes i'm 'bout to take the hite the more the more the gones that shit the ther wanna start to got me i got the play i don't wanna like the start to the condort the start to the place i got the place want the ther the way i get the ther one the play i get a sitches the ther the ther the both something the condow i got the parth out the ther the way i got the start to get the could i got the play i got the play i got the way i \n",
      "----- diversity: 0.5\n",
      "----- Generating with seed: \"y some bad hoes i'm 'bout to take the hi\"\n",
      "y some bad hoes i'm 'bout to take the high on my for the tame i'm wanna man i'm taking all maction i'm the way that shit all gotta fuck the ther the condoll i make it all i seary really takin' it you i be how my blath the semere that my partin' it it on the compor friends not the somethat me friends not i can only i need some one the realonts to be fuck the chame i got to meated was i'm makin' my big not the clostion i cone you and i'm \n",
      "Epoch 3/10\n",
      "122444/122444 [==============================] - 44s 360us/step - loss: 1.4165\n",
      "----- Generating text after Epoch: 2\n",
      "----- diversity: 0.2\n",
      "----- Generating with seed: \"st another kid goin' through life so wor\"\n",
      "st another kid goin' through life so working on the control i don't want that i got a shot i cant the cash i don't want that i don't want that i know it i don't want that i got a little the control i don't want that i don't want that i don't want the control i don't want that i don't want that i stare i don't want that i know i don't want that i don't want that i don't want that i don't want that i don't want that i don't want that i do\n",
      "----- diversity: 0.5\n",
      "----- Generating with seed: \"st another kid goin' through life so wor\"\n",
      "st another kid goin' through life so word a to me there i don't we in the ports then shout for dream i know i controls of me i styple i stit the good i'm just all for me up i can deain changs me i street then they gon' the way it i know me and the streets i don't want to get it i stand me when that's all i get it i hate it i got that i can't i get it a someona on me and they love it got a sillin' i can't get the gones i go to me the hon\n",
      "Epoch 4/10\n",
      "122444/122444 [==============================] - 44s 359us/step - loss: 1.3594\n",
      "----- Generating text after Epoch: 3\n",
      "----- diversity: 0.2\n",
      "----- Generating with seed: \"ck it i'm on one yeah i said i'm on one \"\n",
      "ck it i'm on one yeah i said i'm on one the close the cream i don't want the things that i don't love it in the cars where i know you know what i'm a money the car and the stil it i got a shots the bottom now we don't wanna the cream the things the cream i don't love it in the true the cars and in the gend the way in the true the way the care in the body i see it in the bottom now we got a shots the things we don't want the care in the \n",
      "----- diversity: 0.5\n",
      "----- Generating with seed: \"ck it i'm on one yeah i said i'm on one \"\n",
      "ck it i'm on one yeah i said i'm on one i got somethin' it's a diss the lows the top the cream they can't decenged out the things in the way you got a lot of not tryna ah you know what it's a dog on me don't hear the blessing i might tell the city on a new the condo you mind the call when i cant me and not savin' in the lown for on the true this your like it's on my works and be for you would learn with me i money on cars i see it in a \n",
      "Epoch 5/10\n",
      "122444/122444 [==============================] - 44s 363us/step - loss: 1.3221\n",
      "----- Generating text after Epoch: 4\n",
      "----- diversity: 0.2\n",
      "----- Generating with seed: \" wave 'em at them bitches hating on you \"\n",
      " wave 'em at them bitches hating on you i say the shool i got a lot of and i got a breaktion the stues i got a there where i said i'm to the same the there when i got a lotto the way i got a bother the same there's all the bad been the same i got a be a bother the same on the same i got the there and i'm talkin' with the same i got a started to the true things they got a pipping in the girl i got a bottom when i got a ben when i got a t\n",
      "----- diversity: 0.5\n",
      "----- Generating with seed: \" wave 'em at them bitches hating on you \"\n",
      " wave 'em at them bitches hating on you i got more that i want to you at you anywhere it well couldn't fireworks and i don't know i got a real from the realires when i thought where you did i don't know now you had where down i got the do the say i stit me and where i was still been stop i got makes the tried on the way in the things with me i got a little the doos the stues she just go now it's a single more like i don't know i got a t\n",
      "Epoch 6/10\n",
      "122444/122444 [==============================] - 44s 357us/step - loss: 1.29341s\n",
      "----- Generating text after Epoch: 5\n",
      "----- diversity: 0.2\n",
      "----- Generating with seed: \" niggas and shout out to all my boss bit\"\n",
      " niggas and shout out to all my boss bitch on the same they gotta say the trust they gotta say you don't love it then i wanna say it a lot a mind in the came and i get a plant i don't want the boy they gotta have to take a sold me they loving the things i got the same they gotta love it in the things i get it i don't wanna say the could done i got the came and the same i don't wanna get it in the same i get it in the came and they can't\n",
      "----- diversity: 0.5\n",
      "----- Generating with seed: \" niggas and shout out to all my boss bit\"\n",
      " niggas and shout out to all my boss bitch they missing something so is that you then have it they gotta love with the same for to my never leave it with the same then i say you need to be say that you can't leen the bright i say have it i don't know you don't be a then i get a charts and is the cause you gotta shot i'm to need to be whole love a couple changed to get me they really go do the things i had the blowing on me and i'll hear\n",
      "Epoch 7/10\n",
      "122444/122444 [==============================] - 44s 362us/step - loss: 1.2734\n",
      "----- Generating text after Epoch: 6\n",
      "----- diversity: 0.2\n",
      "----- Generating with seed: \"e been around it you only want what's re\"\n",
      "e been around it you only want what's real shit i'mma still the same the stunt i got a good to the bad out the bottom now i know the stunt i stide the same that i got a problm on me i got me i lose the way to me the way to me the bottom now i can take the bottom now i got a party the way i could be a fuckin' best i got a both shit i'm trying to the way i need a litt it the true that i got a lot of the cause i got a sain i wanna see me t\n",
      "----- diversity: 0.5\n",
      "----- Generating with seed: \"e been around it you only want what's re\"\n"
     ]
    },
    {
     "name": "stdout",
     "output_type": "stream",
     "text": [
      "e been around it you only want what's rew to rest my days i'm sound the bottom now you know i'mma still the waits it the stunt and did i still the same i'mma be man are you don't look i stip it i'mma started to me stone so the get the way i got a bottle for me every city and you do the way you bet the both no now you know it out the cash then i got a be a minsing me what i been prace this is the money want you ask my cause i just had to\n",
      "Epoch 8/10\n",
      "122444/122444 [==============================] - 44s 356us/step - loss: 1.2552\n",
      "----- Generating text after Epoch: 7\n",
      "----- diversity: 0.2\n",
      "----- Generating with seed: \" into something can't just leave it off \"\n",
      " into something can't just leave it off to man the money i got man i don't like the clood on the same i got man i got me the bottom now i can tell me they like the bottom no no no now i got man i don't want the bottom now i know you got me the bottom now i don't want the thing i want the connect i got me they like the bottom no no no now i got me the club so you know it i got my first i got man i got me the bottom now i got me the club \n",
      "----- diversity: 0.5\n",
      "----- Generating with seed: \" into something can't just leave it off \"\n",
      " into something can't just leave it off niggas it think i got my table did i been baby bitches so man i just ight i don't know i need some tine of the same like a shit i can to get a man you want the bott we got man you know i got me i could be i don't need to bring you don't trust me that you know i gotta pick your babe you boys baby i been on a bitches and to the mind to the love it when i don't want that shit in the pop on my niggas \n",
      "Epoch 9/10\n",
      "122444/122444 [==============================] - 43s 355us/step - loss: 1.2405\n",
      "----- Generating text after Epoch: 8\n",
      "----- diversity: 0.2\n",
      "----- Generating with seed: \"movie but don't jump to conclusions you \"\n",
      "movie but don't jump to conclusions you the club i don't wanna told me they gon' think i see i can need to get it i got the clood and i got me they look i couldn't see i can call me i got a stand the condo the clood and i got a do the same i got me with the clood and i can tell me on me i love you you can tell me they gon' think i won a grammy they gon' things that i just mighta pint the clood to the club but i got the clood to my look \n",
      "----- diversity: 0.5\n",
      "----- Generating with seed: \"movie but don't jump to conclusions you \"\n",
      "movie but don't jump to conclusions you do and be in the club sen my niggas all beat to get me like i know the condo i stant on me on me they bring to the club i got me a do when i won't for you got it bedores to someone end out you don't know it i get it in the cash face money to world on the plug really bey all your love from the club no no real they can niggas any the same streedy but i do the world no ain't saarl and the word and i \n",
      "Epoch 10/10\n",
      "122444/122444 [==============================] - 44s 356us/step - loss: 1.2285\n",
      "----- Generating text after Epoch: 9\n",
      "----- diversity: 0.2\n",
      "----- Generating with seed: \"let it out let's get right now that i'm \"\n",
      "let it out let's get right now that i'm so your man on the came and she said it and i got me and i still take a blown i'm a lot of man i see it i said i'm the bands i'm trying a man the things i'm so your man on the bottom now hella to the club i don't know you know you know you know you know you know you know you know you know you know you know you know you know you know you know you know you know you know you know you know you know yo\n",
      "----- diversity: 0.5\n",
      "----- Generating with seed: \"let it out let's get right now that i'm \"\n",
      "let it out let's get right now that i'm the make it gettin' searching for the man in the city that you the same i told that you i've been liven to take my paren i don't know you know you know it you know you know you know you know you and you say me on my shit you know it's a down the bottom now i'm goin' on the gone spend and these bitch in somethin' in the close to the mando you trust the fuckin' every bottles everything i got a goods\n"
     ]
    }
   ],
   "source": [
    "print_callback = LambdaCallback(on_epoch_end=on_epoch_end)\n",
    "\n",
    "history = model.fit(\n",
    "    x, \n",
    "    y,\n",
    "    batch_size=128,\n",
    "    epochs=10,\n",
    "    callbacks=[print_callback]\n",
    ")"
   ]
  },
  {
   "cell_type": "code",
   "execution_count": 14,
   "metadata": {},
   "outputs": [
    {
     "data": {
      "text/plain": [
       "[<matplotlib.lines.Line2D at 0x21462b36c18>]"
      ]
     },
     "execution_count": 14,
     "metadata": {},
     "output_type": "execute_result"
    },
    {
     "data": {
      "image/png": "[encoded data removed]",
      "text/plain": [
       "<Figure size 432x288 with 1 Axes>"
      ]
     },
     "metadata": {},
     "output_type": "display_data"
    }
   ],
   "source": [
    "import matplotlib.pyplot as plt\n",
    "%matplotlib inline\n",
    "\n",
    "plt.plot(history.history['loss'])"
   ]
  },
  {
   "cell_type": "code",
   "execution_count": 15,
   "metadata": {},
   "outputs": [],
   "source": [
    "def generate_output():\n",
    "    generated = ''\n",
    "    usr_input = input(\"Write the beginning of your poem, the Drake machine will complete it. Your input is: \")\n",
    "\n",
    "    sentence = ('{0:0>' + str(Tx) + '}').format(usr_input).lower()\n",
    "    generated += usr_input \n",
    "\n",
    "    sys.stdout.write(\"\\n\\nHere is your poem: \\n\\n\") \n",
    "    sys.stdout.write(usr_input)\n",
    "    for i in range(400):\n",
    "\n",
    "        x_pred = np.zeros((1, Tx, len(chars)))\n",
    "\n",
    "        for t, char in enumerate(sentence):\n",
    "            if char != '0':\n",
    "                x_pred[0, t, char_indices[char]] = 1.\n",
    "\n",
    "        preds = model.predict(x_pred, verbose=0)[0]\n",
    "        next_index = sample(preds, temperature = 0.2)\n",
    "        next_char = indices_char[next_index]\n",
    "\n",
    "        generated += next_char\n",
    "        sentence = sentence[1:] + next_char\n",
    "\n",
    "        sys.stdout.write(next_char)\n",
    "        sys.stdout.flush()\n",
    "\n",
    "        if next_char == '\\n':\n",
    "            continue"
   ]
  },
  {
   "cell_type": "code",
   "execution_count": 16,
   "metadata": {},
   "outputs": [
    {
     "name": "stdout",
     "output_type": "stream",
     "text": [
      "Write the beginning of your poem, the Drake machine will complete it. Your input is: hello my name is mayur\n",
      "\n",
      "\n",
      "Here is your poem: \n",
      "\n",
      "hello my name is mayurin' the way in the same i don't know they gon' think i don't know they know you know you know you know you know you know you know you know you know you know you know you know you know you know you know you know you know you know you know you got the bandwaybod and she said i want the shit i don't know you say it i got me and i got the man on the bottom now we're to the club i don't know they know "
     ]
    }
   ],
   "source": [
    "Tx = 40\n",
    "generate_output()"
   ]
  },
  {
   "cell_type": "code",
   "execution_count": 20,
   "metadata": {},
   "outputs": [],
   "source": [
    "import utils"
   ]
  },
  {
   "cell_type": "code",
   "execution_count": null,
   "metadata": {},
   "outputs": [],
   "source": [
    "utils.save_model_weights(model)"
   ]
  },
  {
   "cell_type": "code",
   "execution_count": null,
   "metadata": {},
   "outputs": [],
   "source": []
  }
 ],
 "metadata": {
  "kernelspec": {
   "display_name": "Python 3",
   "language": "python",
   "name": "python3"
  },
  "language_info": {
   "codemirror_mode": {
    "name": "ipython",
    "version": 3
   },
   "file_extension": ".py",
   "mimetype": "text/x-python",
   "name": "python",
   "nbconvert_exporter": "python",
   "pygments_lexer": "ipython3",
   "version": "3.6.4"
  }
 },
 "nbformat": 4,
 "nbformat_minor": 2
}
